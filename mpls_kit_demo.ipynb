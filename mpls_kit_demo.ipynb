{
 "cells": [
  {
   "cell_type": "markdown",
   "metadata": {
    "pycharm": {
     "name": "#%% md\n"
    }
   },
   "source": [
    "# MPLS-Kit Demonstration Notebook\n",
    "This notebook provides a functional example on the capabilities of the MPLS-Kit "
   ]
  },
  {
   "cell_type": "code",
   "execution_count": 1,
   "metadata": {
    "pycharm": {
     "name": "#%%\n"
    }
   },
   "outputs": [
    {
     "name": "stderr",
     "output_type": "stream",
     "text": [
      "/tmp/ipykernel_21693/4036432208.py:18: DeprecationWarning: Importing display from IPython.core.display is deprecated since IPython 7.14, please import from IPython display\n",
      "  from IPython.core.display import display, HTML\n"
     ]
    },
    {
     "data": {
      "text/plain": "<IPython.core.display.HTML object>",
      "text/html": "<style>.container { width:85% !important; }</style>"
     },
     "metadata": {},
     "output_type": "display_data"
    }
   ],
   "source": [
    "#Load requirements\n",
    "\n",
    "import networkx as nx\n",
    "import matplotlib.pyplot as plt\n",
    "import random\n",
    "import time\n",
    "import jsonschema\n",
    "import json\n",
    "import math \n",
    "from pprint import pprint\n",
    "from itertools import chain, count\n",
    "\n",
    "from networkx.algorithms.shortest_paths.weighted import _weight_function, _dijkstra_multisource\n",
    "from resource import getrusage, RUSAGE_SELF\n",
    "\n",
    "from mpls_fwd_gen import *\n",
    "\n",
    "from IPython.core.display import display, HTML\n",
    "display(HTML(\"<style>.container { width:85% !important; }</style>\"))"
   ]
  },
  {
   "cell_type": "markdown",
   "metadata": {
    "pycharm": {
     "name": "#%% md\n"
    }
   },
   "source": [
    "##  Choose the topology\n",
    "In the next cell you can choose among three options to experiemnt with topologies: generate a random one, load one from an external file or simply define a custom topology in python."
   ]
  },
  {
   "cell_type": "code",
   "execution_count": 2,
   "metadata": {
    "pycharm": {
     "name": "#%%\n"
    }
   },
   "outputs": [],
   "source": [
    "# Topology configuration\n",
    "topology_option = \"external\"   # You can free from the following options: random, external, custom.\n",
    "\n",
    "#random_seed\n",
    "random_seed = 1\n",
    "\n",
    "# Get topology\n",
    "if topology_option == \"random\":\n",
    "    mode = \"random.log_degree\"   # custom, random.log_degree, random.large_degree\n",
    "    n = 10                     # number of nodes, for random only\n",
    "    weight_mode = \"random\"       # random or equal or distance\n",
    "    gen_method = 1               # method for generating the random topology\n",
    "    \n",
    "    G = generate_topology(mode, \n",
    "                      n, \n",
    "                      weight_mode = \"random\", \n",
    "                      gen_method = 1, \n",
    "                      visualize = False, \n",
    "                      display_tables = False, \n",
    "                      random_seed = random_seed \n",
    "                     )\n",
    "\n",
    "    \n",
    "elif topology_option == \"external\":   \n",
    "    G = topology_from_aalwines_json(\"example/abilene.json\", visualize = True)\n",
    "\n",
    "    \n",
    "elif topology_option == \"custom\":\n",
    "    G = nx.Graph()\n",
    "    G.add_edge(\"R7\", \"R0\", weight=1)\n",
    "    G.add_edge(\"R0\", \"R1\", weight=1)\n",
    "    G.add_edge(\"R0\", \"R2\", weight=1)\n",
    "    G.add_edge(\"R0\", \"R3\", weight=1)\n",
    "    G.add_edge(\"R3\", \"R2\", weight=1)\n",
    "    G.add_edge(\"R2\", \"R4\", weight=1)\n",
    "    G.add_edge(\"R4\", \"R1\", weight=1.5)\n",
    "    G.add_edge(\"R1\", \"R5\", weight=1)\n",
    "    G.add_edge(\"R4\", \"R6\", weight=1)\n",
    "    \n",
    "    \n",
    "n = G.number_of_nodes() \n",
    "visualize = True if n<60 else False     # Use only with small networks\n",
    "display_tables = False                  # Use only with small networks"
   ]
  },
  {
   "cell_type": "markdown",
   "metadata": {
    "pycharm": {
     "name": "#%% md\n"
    }
   },
   "source": [
    "## Demo parameters\n",
    "In the next cell you Set parameter values for all MPLS protocols and features that you want deployed in the network."
   ]
  },
  {
   "cell_type": "code",
   "execution_count": 3,
   "metadata": {
    "pycharm": {
     "name": "#%%\n"
    }
   },
   "outputs": [],
   "source": [
    "# Generator configuration\n",
    "enable_PHP = False\n",
    "numeric_labels = False\n",
    "\n",
    "\n",
    "## LDP\n",
    "enable_LDP = False\n",
    "\n",
    "\n",
    "## RSVP\n",
    "enable_RSVP = True\n",
    "\n",
    "protection = \"facility-node\" # options: None, \"facility-node\"\n",
    "\n",
    "if topology_option == \"custom\":\n",
    "    num_lsps = [(\"R7\",\"R5\"),(\"R7\",\"R5\"),(\"R0\",\"R6\")]  # Explicit tunnels to create.\n",
    "else:\n",
    "    num_lsps = 10           # Maximum number of LSPS to compute at random for RSVP only\n",
    "\n",
    "tunnels_per_pair = 1    # no. of tunnels between same head / endtail with the exact same path\n",
    "\n",
    "\n",
    "## VPN Services\n",
    "enable_services = False\n",
    "num_services = 40\n",
    "PE_s_per_service = 3\n",
    "CEs_per_PE = 1"
   ]
  },
  {
   "cell_type": "markdown",
   "metadata": {
    "pycharm": {
     "name": "#%% md\n"
    }
   },
   "source": [
    "## Generate MPLS forwarding rules"
   ]
  },
  {
   "cell_type": "code",
   "execution_count": 4,
   "metadata": {
    "scrolled": false,
    "pycharm": {
     "name": "#%%\n"
    }
   },
   "outputs": [
    {
     "name": "stdout",
     "output_type": "stream",
     "text": [
      "Computing RSVP...\n",
      "num_lsps: 10\n",
      "Tunnel_0: from Washington_DC to Houston\n",
      "Tunnel_1: from Chicago to Atlanta\n",
      "Tunnel_2: from Kansas_City to Sunnyvale\n",
      "Tunnel_3: from Chicago to Denver\n",
      "Tunnel_4: from Houston to New_York\n",
      "Tunnel_5: from Atlanta to Indianapolis\n",
      "Tunnel_6: from Chicago to Seattle\n",
      "Tunnel_7: from New_York to Kansas_City\n",
      "Tunnel_8: from Sunnyvale to Kansas_City\n",
      "Tunnel_9: from Sunnyvale to New_York\n",
      "RSVP ready (frr variant=facility-node).\n",
      "building LFIB\n",
      "Now building order 100\n",
      "LFIB ready.\n",
      "adapting priorities.\n",
      "Refining LFIB\n",
      "Finished.\n"
     ]
    }
   ],
   "source": [
    "network = generate_fwd_rules(G, \n",
    "                             enable_PHP = enable_PHP, \n",
    "                             numeric_labels = numeric_labels, \n",
    "                             enable_LDP = enable_LDP, \n",
    "                             enable_RSVP = enable_RSVP,\n",
    "                               num_lsps = num_lsps, \n",
    "                               tunnels_per_pair = tunnels_per_pair,\n",
    "                             enable_services = enable_services, \n",
    "                               num_services = num_services, \n",
    "                               PE_s_per_service = PE_s_per_service, \n",
    "                               CEs_per_PE = CEs_per_PE,\n",
    "                              random_seed = random_seed,\n",
    "                             protection = protection\n",
    "                      )"
   ]
  },
  {
   "cell_type": "markdown",
   "metadata": {
    "pycharm": {
     "name": "#%% md\n"
    }
   },
   "source": [
    "### Visualize the topology"
   ]
  },
  {
   "cell_type": "code",
   "execution_count": 5,
   "metadata": {
    "scrolled": false,
    "pycharm": {
     "name": "#%%\n"
    }
   },
   "outputs": [
    {
     "data": {
      "text/plain": "<Figure size 720x432 with 1 Axes>",
      "image/png": "[encoded data removed]"
     },
     "metadata": {},
     "output_type": "display_data"
    }
   ],
   "source": [
    "if visualize:\n",
    "    plt.figure(3,figsize=(10,6)) \n",
    "      \n",
    "    pos=nx.spring_layout(G)\n",
    "    nx.draw(G, pos, with_labels = True, font_weight = 'bold')\n",
    "    labels = nx.get_edge_attributes(G,'weight')\n",
    "    nx.draw_networkx_edge_labels(G,pos,edge_labels=labels)\n",
    "    plt.show()\n",
    "\n",
    "if display_tables:\n",
    "    network.visualize()   "
   ]
  },
  {
   "cell_type": "markdown",
   "metadata": {
    "pycharm": {
     "name": "#%% md\n"
    }
   },
   "source": [
    "### Visualize LIB and LFIB tables"
   ]
  },
  {
   "cell_type": "code",
   "execution_count": 6,
   "metadata": {
    "scrolled": false,
    "pycharm": {
     "name": "#%%\n"
    }
   },
   "outputs": [
    {
     "name": "stdout",
     "output_type": "stream",
     "text": [
      "Number of forwarding rules in the Network:67\n",
      "--------------------\n",
      "Houston.LIB\n",
      "('Houston', 'Atlanta', 'Washington_DC')(bypass_Houston_Atlanta_Washington_DC): {'owner': <mpls_fwd_gen.ProcRSVPTE object at 0x7f060552fc70>, 'local_label': '50510'}\n",
      "('Houston', 'Atlanta')(bypass_Houston_Atlanta): {'owner': <mpls_fwd_gen.ProcRSVPTE object at 0x7f060552fc70>, 'local_label': '50511'}\n",
      "('Indianapolis', 'Kansas_City')(bypass_Indianapolis_Kansas_City): {'owner': <mpls_fwd_gen.ProcRSVPTE object at 0x7f060552fc70>, 'local_label': '50512'}\n",
      "('Indianapolis', 'Atlanta')(bypass_Indianapolis_Atlanta): {'owner': <mpls_fwd_gen.ProcRSVPTE object at 0x7f060552fc70>, 'local_label': '50513'}\n",
      "('Indianapolis', 'Kansas_City', 'Denver')(bypass_Indianapolis_Kansas_City_Denver): {'owner': <mpls_fwd_gen.ProcRSVPTE object at 0x7f060552fc70>, 'local_label': '50514'}\n",
      "('Atlanta', 'Houston')(bypass_Atlanta_Houston): {'owner': <mpls_fwd_gen.ProcRSVPTE object at 0x7f060552fc70>, 'local_label': '50515'}\n",
      "('Atlanta', 'Indianapolis')(bypass_Atlanta_Indianapolis): {'owner': <mpls_fwd_gen.ProcRSVPTE object at 0x7f060552fc70>, 'local_label': '50516'}\n",
      "('Washington_DC', 'Houston', 'facility-node')(lsp_from_Washington_DC_to_Houston-1): {'owner': <mpls_fwd_gen.ProcRSVPTE object at 0x7f060552fc70>, 'local_label': '50517'}\n",
      "('Sunnyvale', 'New_York', 'facility-node')(lsp_from_Sunnyvale_to_New_York-1): {'owner': <mpls_fwd_gen.ProcRSVPTE object at 0x7f060552fc70>, 'local_label': '50518'}\n",
      "('Houston', 'New_York', 'facility-node')(lsp_from_Houston_to_New_York-1): {'owner': <mpls_fwd_gen.ProcRSVPTE object at 0x7f060552fc70>, 'local_label': '50519'}\n",
      "\n",
      "Houston.LFIB\n",
      "50512: [{'out': 'Kansas_City', 'ops': [{'swap': '50510'}], 'priority': 0}]\n",
      "50513: [{'out': 'Atlanta', 'ops': [{'swap': '50514'}], 'priority': 0}]\n",
      "50514: [{'out': 'Kansas_City', 'ops': [{'swap': '50512'}], 'priority': 0}]\n",
      "50515: [{'out': 'local_lookup', 'ops': [{'pop': ''}], 'priority': 0}]\n",
      "50516: [{'out': 'Kansas_City', 'ops': [{'swap': '50514'}], 'priority': 0}]\n",
      "50517: [{'out': 'local_lookup', 'ops': [{'pop': ''}], 'priority': 0}]\n",
      "50518: [{'out': 'Atlanta', 'ops': [{'swap': '50521'}], 'priority': 0}, {'out': 'Kansas_City', 'ops': [{'swap': '50521'}, {'push': '50515'}], 'priority': 1}]\n",
      "50519: [{'out': 'Atlanta', 'ops': [{'swap': '50522'}], 'priority': 0}, {'out': 'Kansas_City', 'ops': [{'swap': '50522'}, {'push': '50516'}], 'priority': 1}]\n",
      "--------------------\n"
     ]
    }
   ],
   "source": [
    "if topology_option in [\"custom\",\"random\"]:\n",
    "    router_list = [\"R0\"]\n",
    "    \n",
    "elif topology_option == \"external\":\n",
    "    router_list = [\"Houston\"]    # change as appropiate!\n",
    "\n",
    "network.visualize(router_list)"
   ]
  },
  {
   "cell_type": "markdown",
   "metadata": {
    "pycharm": {
     "name": "#%% md\n"
    }
   },
   "source": [
    "### Inspect RSVP specific tables (if enabled)"
   ]
  },
  {
   "cell_type": "code",
   "execution_count": 7,
   "metadata": {
    "scrolled": true,
    "pycharm": {
     "name": "#%%\n"
    }
   },
   "outputs": [
    {
     "name": "stdout",
     "output_type": "stream",
     "text": [
      "{('Atlanta', 'Houston'): {'FEC': <mpls_fwd_gen.oFEC object at 0x7f06055328b0>,\n",
      "                          'bypass_path': ['Atlanta',\n",
      "                                          'Indianapolis',\n",
      "                                          'Kansas_City',\n",
      "                                          'Houston'],\n",
      "                          'next_hop': None},\n",
      " ('Atlanta', 'Indianapolis'): {'FEC': <mpls_fwd_gen.oFEC object at 0x7f0605532100>,\n",
      "                               'bypass_path': ['Atlanta',\n",
      "                                               'Houston',\n",
      "                                               'Kansas_City',\n",
      "                                               'Indianapolis'],\n",
      "                               'next_hop': 'Kansas_City'},\n",
      " ('Houston', 'Atlanta'): {'FEC': <mpls_fwd_gen.oFEC object at 0x7f0605532dc0>,\n",
      "                          'bypass_path': ['Houston',\n",
      "                                          'Kansas_City',\n",
      "                                          'Indianapolis',\n",
      "                                          'Atlanta'],\n",
      "                          'next_hop': 'Kansas_City'},\n",
      " ('Houston', 'Atlanta', 'Washington_DC'): {'FEC': <mpls_fwd_gen.oFEC object at 0x7f0605532bb0>,\n",
      "                                           'bypass_path': ['Houston',\n",
      "                                                           'Kansas_City',\n",
      "                                                           'Indianapolis',\n",
      "                                                           'Atlanta'],\n",
      "                                           'next_hop': 'Kansas_City'},\n",
      " ('Indianapolis', 'Atlanta'): {'FEC': <mpls_fwd_gen.oFEC object at 0x7f0605532b50>,\n",
      "                               'bypass_path': ['Indianapolis',\n",
      "                                               'Kansas_City',\n",
      "                                               'Houston',\n",
      "                                               'Atlanta'],\n",
      "                               'next_hop': 'Atlanta'},\n",
      " ('Indianapolis', 'Kansas_City'): {'FEC': <mpls_fwd_gen.oFEC object at 0x7f0605532250>,\n",
      "                                   'bypass_path': ['Indianapolis',\n",
      "                                                   'Atlanta',\n",
      "                                                   'Houston',\n",
      "                                                   'Kansas_City'],\n",
      "                                   'next_hop': 'Kansas_City'},\n",
      " ('Indianapolis', 'Kansas_City', 'Denver'): {'FEC': <mpls_fwd_gen.oFEC object at 0x7f0605532220>,\n",
      "                                             'bypass_path': ['Indianapolis',\n",
      "                                                             'Atlanta',\n",
      "                                                             'Houston',\n",
      "                                                             'Kansas_City'],\n",
      "                                             'next_hop': 'Kansas_City'}}\n"
     ]
    }
   ],
   "source": [
    "r = router_list[0] # the first router from the previous cell\n",
    "\n",
    "if enable_RSVP:\n",
    "    #enable as desired to visualize different tables\n",
    "    # tabl = network.routers[r].clients[\"RSVP-TE\"].headended_lsps    # Tunnels starting at r\n",
    "    # tabl = network.routers[r].clients[\"RSVP-TE\"].requested_lsps    # Tunnels through r\n",
    "    tabl = network.routers[r].clients[\"RSVP-TE\"].requested_bypasses    # backup paths through r\n",
    "\n",
    "    pprint(tabl)\n",
    "    \n",
    "if enable_services:\n",
    "    tabl = network.routers[r].clients[\"service\"].services\n",
    "    pprint(tabl)\n"
   ]
  },
  {
   "cell_type": "markdown",
   "metadata": {
    "pycharm": {
     "name": "#%% md\n"
    }
   },
   "source": [
    "# Simulation"
   ]
  },
  {
   "cell_type": "markdown",
   "metadata": {
    "pycharm": {
     "name": "#%% md\n"
    }
   },
   "source": [
    "### Define failure scenario\n",
    "In the next cell, specify the desired failure scenario by stating explicitly the set of failed links F."
   ]
  },
  {
   "cell_type": "code",
   "execution_count": 9,
   "metadata": {
    "pycharm": {
     "name": "#%%\n"
    }
   },
   "outputs": [],
   "source": [
    "# Failed Scenarios\n",
    "#F = []  # No failures\n",
    "\n",
    "# other examples:\n",
    "F = [(\"R1\",\"R3\"),(\"R0\",\"R6\"),(\"R7\",\"R3\"),(\"R3\",\"R4\")]\n",
    "# F = [(\"R3\",\"R4\"),(\"R0\",\"R5\")]\n",
    "# F = [(\"R3\",\"R8\"),(\"R0\",\"R6\"),(\"R0\",\"R8\")]\n",
    "\n",
    "\n",
    "##########################################################################################\n",
    "# Compute the graph after removing the failed sets\n",
    "\n",
    "def filter_node(n):\n",
    "    #return False if n in L else True\n",
    "    return True\n",
    "\n",
    "def filter_edge(n1,n2):\n",
    "    if (n1,n2) in F or (n2,n1) in F:\n",
    "        return False\n",
    "    return True\n",
    "\n",
    "view = nx.subgraph_view(network.topology, filter_node = filter_node, filter_edge = filter_edge)\n"
   ]
  },
  {
   "cell_type": "markdown",
   "metadata": {
    "pycharm": {
     "name": "#%% md\n"
    }
   },
   "source": [
    "## Packet tracer / Simulator"
   ]
  },
  {
   "cell_type": "code",
   "execution_count": 10,
   "metadata": {
    "scrolled": false,
    "pycharm": {
     "name": "#%%\n"
    }
   },
   "outputs": [
    {
     "name": "stdout",
     "output_type": "stream",
     "text": [
      "\n",
      "Current router: Houston\n",
      "Current outmost label: 50518\n",
      "[{'swap': '50521'}]\n",
      "matching rules: 2\n",
      "fwd:\n",
      "[{'out': 'Atlanta', 'ops': [{'swap': '50521'}], 'priority': 0}, {'out': 'Kansas_City', 'ops': [{'swap': '50521'}, {'push': '50515'}], 'priority': 1}]\n",
      "NH: Atlanta \n",
      "stack: ['50521']\n",
      "\n",
      "\n",
      "Current router: Atlanta\n",
      "Current outmost label: 50521\n",
      "[{'swap': '50511'}]\n",
      "matching rules: 2\n",
      "fwd:\n",
      "[{'out': 'Washington_DC', 'ops': [{'swap': '50511'}], 'priority': 0}, {'out': 'Indianapolis', 'ops': [{'swap': '50512'}, {'push': '50515'}], 'priority': 1}]\n",
      "NH: Washington_DC \n",
      "stack: ['50511']\n",
      "\n",
      "\n",
      "Current router: Washington_DC\n",
      "Current outmost label: 50511\n",
      "[{'swap': '50512'}]\n",
      "matching rules: 1\n",
      "fwd:\n",
      "[{'out': 'New_York', 'ops': [{'swap': '50512'}], 'priority': 0}]\n",
      "NH: New_York \n",
      "stack: ['50512']\n",
      "\n",
      "\n",
      "Current router: New_York\n",
      "Current outmost label: 50512\n",
      " FORWARDING recurrent: attempt to process next level on New_York\n",
      "[{'pop': ''}]\n",
      "matching rules: 1\n",
      "fwd:\n",
      "[{'out': 'local_lookup', 'ops': [{'pop': ''}], 'priority': 0}]\n",
      "stack: []\n",
      "\n",
      " FORWARDING Complete: empty stack.\n",
      "Current router: New_York\n",
      "Current outmost label: None\n",
      "stack: []\n",
      "\n"
     ]
    },
    {
     "data": {
      "text/plain": "True"
     },
     "execution_count": 10,
     "metadata": {},
     "output_type": "execute_result"
    }
   ],
   "source": [
    "# Simulate the forwarding of a single packet\n",
    "\n",
    "# change as appropiate!\n",
    "if topology_option == \"custom\":\n",
    "    init_router = \"R0\"\n",
    "    init_stack = [\"50515\"]\n",
    "\n",
    "if topology_option == \"random\":\n",
    "    init_router = \"R0\"\n",
    "    init_stack = [\"50515\"]\n",
    "    \n",
    "elif topology_option == \"external\":\n",
    "    init_router = \"Houston\"    \n",
    "    init_stack = [\"50518\"]\n",
    "\n",
    "# instantiate\n",
    "p = MPLS_packet(network, restricted_topology = view, init_router = init_router, init_stack = init_stack, verbose = True)\n",
    "\n",
    "# send\n",
    "p.fwd()   # prints boolean forwarding result at the end."
   ]
  },
  {
   "cell_type": "markdown",
   "metadata": {
    "pycharm": {
     "name": "#%% md\n"
    }
   },
   "source": [
    "## Run packets simulations for all realistic flows"
   ]
  },
  {
   "cell_type": "code",
   "execution_count": 11,
   "metadata": {
    "pycharm": {
     "name": "#%%\n"
    }
   },
   "outputs": [
    {
     "name": "stdout",
     "output_type": "stream",
     "text": [
      "running simulation with seed 0.7522164607550114\n",
      "Computing flows for simulation.\n"
     ]
    }
   ],
   "source": [
    "sim = Simulator(network, trace_mode=\"links\",  restricted_topology = view)\n",
    "sim.run()"
   ]
  },
  {
   "cell_type": "markdown",
   "metadata": {
    "pycharm": {
     "name": "#%% md\n"
    }
   },
   "source": [
    "### Visualize traceroutes for all simulations."
   ]
  },
  {
   "cell_type": "code",
   "execution_count": 12,
   "metadata": {
    "pycharm": {
     "name": "#%%\n"
    }
   },
   "outputs": [
    {
     "name": "stdout",
     "output_type": "stream",
     "text": [
      "\n",
      "\n",
      "Traces:\n",
      "(\"True;0;New_York;50511;[('New_York', 'Chicago'), ('Chicago', 'Indianapolis'), \"\n",
      " \"('Indianapolis', 'Kansas_City'), ('Kansas_City', None)];\")\n",
      "(\"True;0;Chicago;50512;[('Chicago', 'Indianapolis'), ('Indianapolis', \"\n",
      " \"'Atlanta'), ('Atlanta', None)];\")\n",
      "(\"True;0;Chicago;50513;[('Chicago', 'Indianapolis'), ('Indianapolis', \"\n",
      " \"'Kansas_City'), ('Kansas_City', 'Denver'), ('Denver', None)];\")\n",
      "(\"True;0;Chicago;50514;[('Chicago', 'Indianapolis'), ('Indianapolis', \"\n",
      " \"'Kansas_City'), ('Kansas_City', 'Denver'), ('Denver', 'Seattle'), \"\n",
      " \"('Seattle', None)];\")\n",
      "(\"True;0;Washington_DC;50510;[('Washington_DC', 'Atlanta'), ('Atlanta', \"\n",
      " \"'Houston'), ('Houston', None)];\")\n",
      "\"True;0;Atlanta;50520;[('Atlanta', 'Indianapolis'), ('Indianapolis', None)];\"\n",
      "(\"True;0;Sunnyvale;50513;[('Sunnyvale', 'Denver'), ('Denver', 'Kansas_City'), \"\n",
      " \"('Kansas_City', None)];\")\n",
      "(\"True;0;Sunnyvale;50514;[('Sunnyvale', 'Los_Angeles'), ('Los_Angeles', \"\n",
      " \"'Houston'), ('Houston', 'Atlanta'), ('Atlanta', 'Washington_DC'), \"\n",
      " \"('Washington_DC', 'New_York'), ('New_York', None)];\")\n",
      "(\"True;0;Houston;50519;[('Houston', 'Atlanta'), ('Atlanta', 'Washington_DC'), \"\n",
      " \"('Washington_DC', 'New_York'), ('New_York', None)];\")\n",
      "(\"True;0;Kansas_City;50521;[('Kansas_City', 'Denver'), ('Denver', \"\n",
      " \"'Sunnyvale'), ('Sunnyvale', None)];\")\n"
     ]
    }
   ],
   "source": [
    "print(\"\\n\\nTraces:\")\n",
    "sim.print_traces()"
   ]
  },
  {
   "cell_type": "markdown",
   "metadata": {
    "pycharm": {
     "name": "#%% md\n"
    }
   },
   "source": [
    "### Print results"
   ]
  },
  {
   "cell_type": "code",
   "execution_count": 13,
   "metadata": {
    "scrolled": false,
    "pycharm": {
     "name": "#%%\n"
    }
   },
   "outputs": [
    {
     "name": "stdout",
     "output_type": "stream",
     "text": [
      "Simulation run for 10 flows on failure set [('R1', 'R3'), ('R0', 'R6'), ('R7', 'R3'), ('R3', 'R4')]\n",
      "The success percentage (number of successfully forwardes packet / number of simulations) is 100.0 %\n"
     ]
    }
   ],
   "source": [
    "success_ratio, total_flows = sim.success_rate()\n",
    "print(f\"\"\"Simulation run for {total_flows} flows on failure set {F}\"\"\")\n",
    "print(f\"The success percentage (number of successfully forwardes packet / number of simulations) is {success_ratio*100} %\")"
   ]
  },
  {
   "cell_type": "code",
   "execution_count": null,
   "outputs": [],
   "source": [],
   "metadata": {
    "collapsed": false,
    "pycharm": {
     "name": "#%%\n"
    }
   }
  }
 ],
 "metadata": {
  "kernelspec": {
   "display_name": "Python 3 (ipykernel)",
   "language": "python",
   "name": "python3"
  },
  "language_info": {
   "codemirror_mode": {
    "name": "ipython",
    "version": 3
   },
   "file_extension": ".py",
   "mimetype": "text/x-python",
   "name": "python",
   "nbconvert_exporter": "python",
   "pygments_lexer": "ipython3",
   "version": "3.8.12"
  }
 },
 "nbformat": 4,
 "nbformat_minor": 4
}